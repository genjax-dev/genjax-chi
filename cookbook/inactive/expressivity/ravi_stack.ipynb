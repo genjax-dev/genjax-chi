{
 "cells": [
  {
   "cell_type": "markdown",
   "metadata": {
    "vscode": {
     "languageId": "raw"
    }
   },
   "source": [
    "## Nested approximate marginalisation & RAVI stacks [![Open In Colab](https://colab.research.google.com/assets/colab-badge.svg)](https://colab.research.google.com/github/ChiSym/genjax/blob/main/docs/cookbook/inactive/expressivity/ravi_stack.ipynb)\n",
    "### How to be recursively wrong everywhere all the time yet correct at the end"
   ]
  },
  {
   "cell_type": "code",
   "execution_count": null,
   "metadata": {},
   "outputs": [],
   "source": [
    "import sys\n",
    "\n",
    "if \"google.colab\" in sys.modules:\n",
    "    %pip install --quiet \"genjax[genstudio]\""
   ]
  },
  {
   "cell_type": "code",
   "execution_count": null,
   "metadata": {},
   "outputs": [],
   "source": [
    "import jax\n",
    "import jax.numpy as jnp\n",
    "\n",
    "import genjax\n",
    "from genjax import ChoiceMapBuilder as C\n",
    "from genjax import SelectionBuilder as S\n",
    "from genjax import Target, gen, pretty\n",
    "\n",
    "pretty()"
   ]
  },
  {
   "cell_type": "markdown",
   "metadata": {},
   "source": [
    "Say you have a model of interest for which you want to do inference. It consists of a mixture of 3 Gaussians, two of which are close to each other while the other one is far. We will informally call cluster 1 the single Gaussian far from the others and cluster 2 the other two."
   ]
  },
  {
   "cell_type": "code",
   "execution_count": null,
   "metadata": {},
   "outputs": [],
   "source": [
    "@gen\n",
    "def model():\n",
    "    idx = genjax.categorical(probs=[0.5, 0.25, 0.25]) @ \"idx\"\n",
    "    # under the prior, 50% chance to be in cluster 1 and 50% chance to be in cluster 2.\n",
    "    means = jnp.array([0.0, 10.0, 11.0])\n",
    "    vars = jnp.array([1.0, 1.0, 1.0])\n",
    "    x = genjax.normal(means[idx], vars[idx]) @ \"x\"\n",
    "    y = genjax.normal(means[idx], vars[idx]) @ \"y\"\n",
    "    return x, y\n",
    "\n",
    "\n",
    "obs1 = C[\"x\"].set(1.0)\n",
    "obs2 = C[\"x\"].set(10.5)"
   ]
  },
  {
   "cell_type": "markdown",
   "metadata": {},
   "source": [
    "We will only care about the values of \"x\" and \"y\" in the output, so we will marginalize \"idx\" out."
   ]
  },
  {
   "cell_type": "code",
   "execution_count": null,
   "metadata": {},
   "outputs": [],
   "source": [
    "marginal_model = model.marginal(\n",
    "    selection=S[\"x\"] | S[\"y\"]\n",
    ")  # This means we are projection onto the variables x and y, marginalizing out the rest"
   ]
  },
  {
   "cell_type": "markdown",
   "metadata": {},
   "source": [
    "Testing the marginal model"
   ]
  },
  {
   "cell_type": "code",
   "execution_count": null,
   "metadata": {},
   "outputs": [],
   "source": [
    "key = jax.random.key(0)\n",
    "marginal_model.simulate(key, ())"
   ]
  },
  {
   "cell_type": "code",
   "execution_count": null,
   "metadata": {},
   "outputs": [],
   "source": [
    "tr, w = marginal_model.importance(key, obs1, ())\n",
    "tr.get_choices()"
   ]
  },
  {
   "cell_type": "markdown",
   "metadata": {},
   "source": [
    "Now depending on what we observe, we will want to infer that the data was likely generated from one cluster (the single Gaussian far from the other ones) or the other (the two Gaussians close to each other).\n",
    "\n",
    "Let's create a data-driven proposal that targets the model and will incorporate this logic. \n",
    "In order to avoid being too eager in our custom logic, we may want to just use this as a probabilistic heuristics instead of a deterministic one. After all, it's possible that the value 10.5 for \"x\" was generated from the cluster with a single Gaussian."
   ]
  },
  {
   "cell_type": "code",
   "execution_count": null,
   "metadata": {},
   "outputs": [],
   "source": [
    "@gen\n",
    "def proposal(target: Target):\n",
    "    x_obs = target.constraint[\"x\"]\n",
    "    probs = jax.lax.cond(\n",
    "        x_obs < 5.0,\n",
    "        lambda _: jnp.array([0.9, 0.1]),\n",
    "        lambda _: jnp.array([0.1, 0.9]),\n",
    "        operand=None,\n",
    "    )\n",
    "    # if x_obs < 5, then our heuristics is to propose something closer to cluster 1 with probability 0.9, otherwise we propose in cluster 2 with probability 0.9.\n",
    "    cluster_idx = genjax.categorical(probs=probs) @ \"cluster_idx\"\n",
    "    means = jnp.array([0.0, 10.5])\n",
    "    # second cluster is more spread out so we use a larger variance\n",
    "    vars = jnp.array([1.0, 3.0])\n",
    "    y = genjax.normal(means[cluster_idx], vars[cluster_idx]) @ \"y\"\n",
    "    return y"
   ]
  },
  {
   "cell_type": "markdown",
   "metadata": {},
   "source": [
    "Testing the proposal."
   ]
  },
  {
   "cell_type": "code",
   "execution_count": null,
   "metadata": {},
   "outputs": [],
   "source": [
    "target = Target(marginal_model, (), obs1)\n",
    "proposal.simulate(key, (target,))"
   ]
  },
  {
   "cell_type": "markdown",
   "metadata": {},
   "source": [
    "So now this may seem great, but we cannot yet use this proposal as an importance sampler for the model. The issue is that the traces produced by the proposal don't match the ones the model accepts: the model doesn't know what to do with \"cluster_idx\"."
   ]
  },
  {
   "cell_type": "code",
   "execution_count": null,
   "metadata": {},
   "outputs": [],
   "source": [
    "k_particles = 500\n",
    "alg = genjax.smc.ImportanceK(target, q=proposal.marginal(), k_particles=k_particles)\n",
    "\n",
    "try:\n",
    "    alg.simulate(key, (target,))\n",
    "except Exception as e:\n",
    "    # TODO: this currently doesn't raise an exception but in the future it should\n",
    "    print(e)"
   ]
  },
  {
   "cell_type": "markdown",
   "metadata": {},
   "source": [
    "There again, we can use marginal to marginalise out the variable from the proposal."
   ]
  },
  {
   "cell_type": "code",
   "execution_count": null,
   "metadata": {},
   "outputs": [],
   "source": [
    "k_particles = 500\n",
    "alg = genjax.smc.ImportanceK(\n",
    "    target, q=proposal.marginal(selection=S[\"y\"]), k_particles=k_particles\n",
    ")\n",
    "\n",
    "alg.simulate(key, (target,))"
   ]
  }
 ],
 "metadata": {
  "kernelspec": {
   "display_name": ".venv",
   "language": "python",
   "name": "python3"
  },
  "language_info": {
   "codemirror_mode": {
    "name": "ipython",
    "version": 3
   },
   "file_extension": ".py",
   "mimetype": "text/x-python",
   "name": "python",
   "nbconvert_exporter": "python",
   "pygments_lexer": "ipython3",
   "version": "3.11.4"
  }
 },
 "nbformat": 4,
 "nbformat_minor": 2
}
